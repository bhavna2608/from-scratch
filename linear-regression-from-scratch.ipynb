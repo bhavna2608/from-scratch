{
 "cells": [
  {
   "cell_type": "code",
   "execution_count": 1,
   "id": "2fe3e8fd",
   "metadata": {
    "_cell_guid": "b1076dfc-b9ad-4769-8c92-a6c4dae69d19",
    "_uuid": "8f2839f25d086af736a60e9eeb907d3b93b6e0e5",
    "execution": {
     "iopub.execute_input": "2024-07-21T22:25:25.513286Z",
     "iopub.status.busy": "2024-07-21T22:25:25.512841Z",
     "iopub.status.idle": "2024-07-21T22:25:26.656532Z",
     "shell.execute_reply": "2024-07-21T22:25:26.654979Z"
    },
    "papermill": {
     "duration": 1.156401,
     "end_time": "2024-07-21T22:25:26.659396",
     "exception": false,
     "start_time": "2024-07-21T22:25:25.502995",
     "status": "completed"
    },
    "tags": []
   },
   "outputs": [
    {
     "name": "stdout",
     "output_type": "stream",
     "text": [
      "/kaggle/input/salary-dataset/Linear Regression Data.csv\n"
     ]
    }
   ],
   "source": [
    "# This Python 3 environment comes with many helpful analytics libraries installed\n",
    "# It is defined by the kaggle/python Docker image: https://github.com/kaggle/docker-python\n",
    "# For example, here's several helpful packages to load\n",
    "\n",
    "import numpy as np # linear algebra\n",
    "import pandas as pd # data processing, CSV file I/O (e.g. pd.read_csv)\n",
    "import matplotlib.pyplot as plt #plotting graphs\n",
    "from ipywidgets import interact, widgets, HBox, VBox #for interactive elements\n",
    "\n",
    "# Input data files are available in the read-only \"../input/\" directory\n",
    "# For example, running this (by clicking run or pressing Shift+Enter) will list all files under the input directory\n",
    "\n",
    "import os\n",
    "for dirname, _, filenames in os.walk('/kaggle/input'):\n",
    "    for filename in filenames:\n",
    "        print(os.path.join(dirname, filename))\n",
    "\n",
    "# You can write up to 20GB to the current directory (/kaggle/working/) that gets preserved as output when you create a version using \"Save & Run All\" \n",
    "# You can also write temporary files to /kaggle/temp/, but they won't be saved outside of the current session"
   ]
  },
  {
   "cell_type": "code",
   "execution_count": 2,
   "id": "3727d28e",
   "metadata": {
    "execution": {
     "iopub.execute_input": "2024-07-21T22:25:26.677239Z",
     "iopub.status.busy": "2024-07-21T22:25:26.676680Z",
     "iopub.status.idle": "2024-07-21T22:25:26.696625Z",
     "shell.execute_reply": "2024-07-21T22:25:26.695310Z"
    },
    "papermill": {
     "duration": 0.032522,
     "end_time": "2024-07-21T22:25:26.699700",
     "exception": false,
     "start_time": "2024-07-21T22:25:26.667178",
     "status": "completed"
    },
    "tags": []
   },
   "outputs": [],
   "source": [
    "df = pd.read_csv('/kaggle/input/salary-dataset/Linear Regression Data.csv') #convert the dataset into a Pandas dataframe"
   ]
  },
  {
   "cell_type": "code",
   "execution_count": 3,
   "id": "94be18b1",
   "metadata": {
    "execution": {
     "iopub.execute_input": "2024-07-21T22:25:26.717107Z",
     "iopub.status.busy": "2024-07-21T22:25:26.716671Z",
     "iopub.status.idle": "2024-07-21T22:25:26.746180Z",
     "shell.execute_reply": "2024-07-21T22:25:26.744920Z"
    },
    "papermill": {
     "duration": 0.04113,
     "end_time": "2024-07-21T22:25:26.748623",
     "exception": false,
     "start_time": "2024-07-21T22:25:26.707493",
     "status": "completed"
    },
    "tags": []
   },
   "outputs": [
    {
     "data": {
      "text/html": [
       "<div>\n",
       "<style scoped>\n",
       "    .dataframe tbody tr th:only-of-type {\n",
       "        vertical-align: middle;\n",
       "    }\n",
       "\n",
       "    .dataframe tbody tr th {\n",
       "        vertical-align: top;\n",
       "    }\n",
       "\n",
       "    .dataframe thead th {\n",
       "        text-align: right;\n",
       "    }\n",
       "</style>\n",
       "<table border=\"1\" class=\"dataframe\">\n",
       "  <thead>\n",
       "    <tr style=\"text-align: right;\">\n",
       "      <th></th>\n",
       "      <th>YearsExperience</th>\n",
       "      <th>Salary</th>\n",
       "    </tr>\n",
       "  </thead>\n",
       "  <tbody>\n",
       "    <tr>\n",
       "      <th>0</th>\n",
       "      <td>1.1</td>\n",
       "      <td>39343</td>\n",
       "    </tr>\n",
       "    <tr>\n",
       "      <th>1</th>\n",
       "      <td>1.3</td>\n",
       "      <td>46205</td>\n",
       "    </tr>\n",
       "    <tr>\n",
       "      <th>2</th>\n",
       "      <td>1.5</td>\n",
       "      <td>37731</td>\n",
       "    </tr>\n",
       "    <tr>\n",
       "      <th>3</th>\n",
       "      <td>2.0</td>\n",
       "      <td>43525</td>\n",
       "    </tr>\n",
       "    <tr>\n",
       "      <th>4</th>\n",
       "      <td>2.2</td>\n",
       "      <td>39891</td>\n",
       "    </tr>\n",
       "    <tr>\n",
       "      <th>5</th>\n",
       "      <td>2.9</td>\n",
       "      <td>56642</td>\n",
       "    </tr>\n",
       "    <tr>\n",
       "      <th>6</th>\n",
       "      <td>3.0</td>\n",
       "      <td>60150</td>\n",
       "    </tr>\n",
       "    <tr>\n",
       "      <th>7</th>\n",
       "      <td>3.2</td>\n",
       "      <td>54445</td>\n",
       "    </tr>\n",
       "    <tr>\n",
       "      <th>8</th>\n",
       "      <td>3.2</td>\n",
       "      <td>64445</td>\n",
       "    </tr>\n",
       "    <tr>\n",
       "      <th>9</th>\n",
       "      <td>3.7</td>\n",
       "      <td>57189</td>\n",
       "    </tr>\n",
       "    <tr>\n",
       "      <th>10</th>\n",
       "      <td>3.9</td>\n",
       "      <td>63218</td>\n",
       "    </tr>\n",
       "    <tr>\n",
       "      <th>11</th>\n",
       "      <td>4.0</td>\n",
       "      <td>55794</td>\n",
       "    </tr>\n",
       "    <tr>\n",
       "      <th>12</th>\n",
       "      <td>4.0</td>\n",
       "      <td>56957</td>\n",
       "    </tr>\n",
       "    <tr>\n",
       "      <th>13</th>\n",
       "      <td>4.1</td>\n",
       "      <td>57081</td>\n",
       "    </tr>\n",
       "    <tr>\n",
       "      <th>14</th>\n",
       "      <td>4.5</td>\n",
       "      <td>61111</td>\n",
       "    </tr>\n",
       "    <tr>\n",
       "      <th>15</th>\n",
       "      <td>4.9</td>\n",
       "      <td>67938</td>\n",
       "    </tr>\n",
       "    <tr>\n",
       "      <th>16</th>\n",
       "      <td>5.1</td>\n",
       "      <td>66029</td>\n",
       "    </tr>\n",
       "    <tr>\n",
       "      <th>17</th>\n",
       "      <td>5.3</td>\n",
       "      <td>83088</td>\n",
       "    </tr>\n",
       "    <tr>\n",
       "      <th>18</th>\n",
       "      <td>5.9</td>\n",
       "      <td>81363</td>\n",
       "    </tr>\n",
       "    <tr>\n",
       "      <th>19</th>\n",
       "      <td>6.0</td>\n",
       "      <td>93940</td>\n",
       "    </tr>\n",
       "    <tr>\n",
       "      <th>20</th>\n",
       "      <td>6.8</td>\n",
       "      <td>91738</td>\n",
       "    </tr>\n",
       "    <tr>\n",
       "      <th>21</th>\n",
       "      <td>7.1</td>\n",
       "      <td>98273</td>\n",
       "    </tr>\n",
       "    <tr>\n",
       "      <th>22</th>\n",
       "      <td>7.9</td>\n",
       "      <td>101302</td>\n",
       "    </tr>\n",
       "    <tr>\n",
       "      <th>23</th>\n",
       "      <td>8.2</td>\n",
       "      <td>113812</td>\n",
       "    </tr>\n",
       "    <tr>\n",
       "      <th>24</th>\n",
       "      <td>8.7</td>\n",
       "      <td>109431</td>\n",
       "    </tr>\n",
       "    <tr>\n",
       "      <th>25</th>\n",
       "      <td>9.0</td>\n",
       "      <td>105582</td>\n",
       "    </tr>\n",
       "    <tr>\n",
       "      <th>26</th>\n",
       "      <td>9.5</td>\n",
       "      <td>116969</td>\n",
       "    </tr>\n",
       "    <tr>\n",
       "      <th>27</th>\n",
       "      <td>9.6</td>\n",
       "      <td>112635</td>\n",
       "    </tr>\n",
       "    <tr>\n",
       "      <th>28</th>\n",
       "      <td>10.3</td>\n",
       "      <td>122391</td>\n",
       "    </tr>\n",
       "    <tr>\n",
       "      <th>29</th>\n",
       "      <td>10.5</td>\n",
       "      <td>121872</td>\n",
       "    </tr>\n",
       "  </tbody>\n",
       "</table>\n",
       "</div>"
      ],
      "text/plain": [
       "    YearsExperience  Salary\n",
       "0               1.1   39343\n",
       "1               1.3   46205\n",
       "2               1.5   37731\n",
       "3               2.0   43525\n",
       "4               2.2   39891\n",
       "5               2.9   56642\n",
       "6               3.0   60150\n",
       "7               3.2   54445\n",
       "8               3.2   64445\n",
       "9               3.7   57189\n",
       "10              3.9   63218\n",
       "11              4.0   55794\n",
       "12              4.0   56957\n",
       "13              4.1   57081\n",
       "14              4.5   61111\n",
       "15              4.9   67938\n",
       "16              5.1   66029\n",
       "17              5.3   83088\n",
       "18              5.9   81363\n",
       "19              6.0   93940\n",
       "20              6.8   91738\n",
       "21              7.1   98273\n",
       "22              7.9  101302\n",
       "23              8.2  113812\n",
       "24              8.7  109431\n",
       "25              9.0  105582\n",
       "26              9.5  116969\n",
       "27              9.6  112635\n",
       "28             10.3  122391\n",
       "29             10.5  121872"
      ]
     },
     "execution_count": 3,
     "metadata": {},
     "output_type": "execute_result"
    }
   ],
   "source": [
    "df #the dataset is very small, so it looks pretty clean; might not need any preprocessing"
   ]
  },
  {
   "cell_type": "code",
   "execution_count": 4,
   "id": "c4b2069b",
   "metadata": {
    "execution": {
     "iopub.execute_input": "2024-07-21T22:25:26.766072Z",
     "iopub.status.busy": "2024-07-21T22:25:26.765706Z",
     "iopub.status.idle": "2024-07-21T22:25:26.793260Z",
     "shell.execute_reply": "2024-07-21T22:25:26.791985Z"
    },
    "papermill": {
     "duration": 0.039973,
     "end_time": "2024-07-21T22:25:26.796625",
     "exception": false,
     "start_time": "2024-07-21T22:25:26.756652",
     "status": "completed"
    },
    "tags": []
   },
   "outputs": [
    {
     "name": "stdout",
     "output_type": "stream",
     "text": [
      "<class 'pandas.core.frame.DataFrame'>\n",
      "RangeIndex: 30 entries, 0 to 29\n",
      "Data columns (total 2 columns):\n",
      " #   Column           Non-Null Count  Dtype  \n",
      "---  ------           --------------  -----  \n",
      " 0   YearsExperience  30 non-null     float64\n",
      " 1   Salary           30 non-null     int64  \n",
      "dtypes: float64(1), int64(1)\n",
      "memory usage: 608.0 bytes\n"
     ]
    }
   ],
   "source": [
    "df.info() #no null values; data type is correct"
   ]
  },
  {
   "cell_type": "code",
   "execution_count": 5,
   "id": "4f945bcc",
   "metadata": {
    "execution": {
     "iopub.execute_input": "2024-07-21T22:25:26.814383Z",
     "iopub.status.busy": "2024-07-21T22:25:26.813985Z",
     "iopub.status.idle": "2024-07-21T22:25:26.836304Z",
     "shell.execute_reply": "2024-07-21T22:25:26.834849Z"
    },
    "papermill": {
     "duration": 0.034236,
     "end_time": "2024-07-21T22:25:26.838918",
     "exception": false,
     "start_time": "2024-07-21T22:25:26.804682",
     "status": "completed"
    },
    "tags": []
   },
   "outputs": [
    {
     "data": {
      "text/html": [
       "<div>\n",
       "<style scoped>\n",
       "    .dataframe tbody tr th:only-of-type {\n",
       "        vertical-align: middle;\n",
       "    }\n",
       "\n",
       "    .dataframe tbody tr th {\n",
       "        vertical-align: top;\n",
       "    }\n",
       "\n",
       "    .dataframe thead th {\n",
       "        text-align: right;\n",
       "    }\n",
       "</style>\n",
       "<table border=\"1\" class=\"dataframe\">\n",
       "  <thead>\n",
       "    <tr style=\"text-align: right;\">\n",
       "      <th></th>\n",
       "      <th>YearsExperience</th>\n",
       "      <th>Salary</th>\n",
       "    </tr>\n",
       "  </thead>\n",
       "  <tbody>\n",
       "    <tr>\n",
       "      <th>count</th>\n",
       "      <td>30.000000</td>\n",
       "      <td>30.000000</td>\n",
       "    </tr>\n",
       "    <tr>\n",
       "      <th>mean</th>\n",
       "      <td>5.313333</td>\n",
       "      <td>76003.000000</td>\n",
       "    </tr>\n",
       "    <tr>\n",
       "      <th>std</th>\n",
       "      <td>2.837888</td>\n",
       "      <td>27414.429785</td>\n",
       "    </tr>\n",
       "    <tr>\n",
       "      <th>min</th>\n",
       "      <td>1.100000</td>\n",
       "      <td>37731.000000</td>\n",
       "    </tr>\n",
       "    <tr>\n",
       "      <th>25%</th>\n",
       "      <td>3.200000</td>\n",
       "      <td>56720.750000</td>\n",
       "    </tr>\n",
       "    <tr>\n",
       "      <th>50%</th>\n",
       "      <td>4.700000</td>\n",
       "      <td>65237.000000</td>\n",
       "    </tr>\n",
       "    <tr>\n",
       "      <th>75%</th>\n",
       "      <td>7.700000</td>\n",
       "      <td>100544.750000</td>\n",
       "    </tr>\n",
       "    <tr>\n",
       "      <th>max</th>\n",
       "      <td>10.500000</td>\n",
       "      <td>122391.000000</td>\n",
       "    </tr>\n",
       "  </tbody>\n",
       "</table>\n",
       "</div>"
      ],
      "text/plain": [
       "       YearsExperience         Salary\n",
       "count        30.000000      30.000000\n",
       "mean          5.313333   76003.000000\n",
       "std           2.837888   27414.429785\n",
       "min           1.100000   37731.000000\n",
       "25%           3.200000   56720.750000\n",
       "50%           4.700000   65237.000000\n",
       "75%           7.700000  100544.750000\n",
       "max          10.500000  122391.000000"
      ]
     },
     "execution_count": 5,
     "metadata": {},
     "output_type": "execute_result"
    }
   ],
   "source": [
    "df.describe() "
   ]
  },
  {
   "cell_type": "markdown",
   "id": "4537f3ea",
   "metadata": {
    "papermill": {
     "duration": 0.008075,
     "end_time": "2024-07-21T22:25:26.855329",
     "exception": false,
     "start_time": "2024-07-21T22:25:26.847254",
     "status": "completed"
    },
    "tags": []
   },
   "source": [
    "When a feature's input value is large, the model is more likely to associate a smaller value for its parameter and vice-versa. Having huge differences in parameter ranges acorss various features causes Gradient Descent to run slower, which is why we use **'Feature Sclaing'**. It makes the relative sizes of different features similar so there isn't much variation in their parameter values.\n",
    "\n",
    "Now since we only have one feature here, this is not really needed, but when we'll go to multiple linear regression, this concept will become extremely important. One benefit of **normalization** (a method to scale features) here will be that the values of the cost function will be reasonable, instead of being very large numbers. (Feel free to test it out by using non-normalized dataframe once and a normalized one afterwards.)\n",
    "\n",
    "There are various ways to normalize values; we'll see all of them in this notebook."
   ]
  },
  {
   "cell_type": "code",
   "execution_count": 6,
   "id": "42ead26b",
   "metadata": {
    "execution": {
     "iopub.execute_input": "2024-07-21T22:25:26.873682Z",
     "iopub.status.busy": "2024-07-21T22:25:26.873288Z",
     "iopub.status.idle": "2024-07-21T22:25:26.880973Z",
     "shell.execute_reply": "2024-07-21T22:25:26.879334Z"
    },
    "papermill": {
     "duration": 0.020235,
     "end_time": "2024-07-21T22:25:26.883860",
     "exception": false,
     "start_time": "2024-07-21T22:25:26.863625",
     "status": "completed"
    },
    "tags": []
   },
   "outputs": [],
   "source": [
    "# Normalization functions\n",
    "def no_normalization(df):\n",
    "    return df\n",
    "\n",
    "def min_max_normalization(df):\n",
    "    return df / df.max()\n",
    "\n",
    "def mean_normalization(df):\n",
    "    return (df - df.mean()) / (df.max() - df.min())\n",
    "\n",
    "def z_score_normalization(df):\n",
    "    return (df - df.mean()) / df.std()"
   ]
  },
  {
   "cell_type": "code",
   "execution_count": 7,
   "id": "b739aaab",
   "metadata": {
    "execution": {
     "iopub.execute_input": "2024-07-21T22:25:26.902719Z",
     "iopub.status.busy": "2024-07-21T22:25:26.902307Z",
     "iopub.status.idle": "2024-07-21T22:25:27.269268Z",
     "shell.execute_reply": "2024-07-21T22:25:27.268097Z"
    },
    "papermill": {
     "duration": 0.38011,
     "end_time": "2024-07-21T22:25:27.272330",
     "exception": false,
     "start_time": "2024-07-21T22:25:26.892220",
     "status": "completed"
    },
    "tags": []
   },
   "outputs": [
    {
     "data": {
      "application/vnd.jupyter.widget-view+json": {
       "model_id": "ec9dc240373944c483def7557277dc10",
       "version_major": 2,
       "version_minor": 0
      },
      "text/plain": [
       "interactive(children=(IntSlider(value=0, description='Normalization:', max=3), Output()), _dom_classes=('widge…"
      ]
     },
     "metadata": {},
     "output_type": "display_data"
    },
    {
     "data": {
      "text/plain": [
       "<function __main__.plot_data(normalization_type)>"
      ]
     },
     "execution_count": 7,
     "metadata": {},
     "output_type": "execute_result"
    }
   ],
   "source": [
    "# Plotting function\n",
    "def plot_data(normalization_type):\n",
    "    if normalization_type == 0:\n",
    "        normalized_df = no_normalization(df)\n",
    "        title = \"No Normalization\"\n",
    "    elif normalization_type == 1:\n",
    "        normalized_df = min_max_normalization(df)\n",
    "        title = \"Min-Max Normalization\"\n",
    "    elif normalization_type == 2:\n",
    "        normalized_df = mean_normalization(df)\n",
    "        title = \"Mean Normalization\"\n",
    "    elif normalization_type == 3:\n",
    "        normalized_df = z_score_normalization(df)\n",
    "        title = \"Z-Score Normalization\"\n",
    "    \n",
    "    plt.figure(figsize=(8, 5))\n",
    "    plt.scatter(normalized_df['YearsExperience'], normalized_df['Salary'], color='orange', alpha=0.6, edgecolor='r', s=70)\n",
    "    plt.title(title, fontsize=14)\n",
    "    plt.xlabel('Years of Experience', fontsize=12)\n",
    "    plt.ylabel('Salary', fontsize=12)\n",
    "    plt.xticks(fontsize=10)\n",
    "    plt.yticks(fontsize=10)\n",
    "    plt.box(True)  # Remove the top and right spines\n",
    "    plt.show()\n",
    "\n",
    "# Interactive widget\n",
    "interact(plot_data, normalization_type=widgets.IntSlider(min=0, max=3, step=1, value=0, description='Normalization:'))"
   ]
  },
  {
   "cell_type": "code",
   "execution_count": 8,
   "id": "cc610a23",
   "metadata": {
    "execution": {
     "iopub.execute_input": "2024-07-21T22:25:27.292797Z",
     "iopub.status.busy": "2024-07-21T22:25:27.292375Z",
     "iopub.status.idle": "2024-07-21T22:25:27.300453Z",
     "shell.execute_reply": "2024-07-21T22:25:27.299281Z"
    },
    "papermill": {
     "duration": 0.020946,
     "end_time": "2024-07-21T22:25:27.303108",
     "exception": false,
     "start_time": "2024-07-21T22:25:27.282162",
     "status": "completed"
    },
    "tags": []
   },
   "outputs": [],
   "source": [
    "#let us go with z-score normalization for now, any other kind of normalization will also work just as well here\n",
    "df2 = z_score_normalization(df)"
   ]
  },
  {
   "cell_type": "code",
   "execution_count": 9,
   "id": "936b0ebe",
   "metadata": {
    "execution": {
     "iopub.execute_input": "2024-07-21T22:25:27.322923Z",
     "iopub.status.busy": "2024-07-21T22:25:27.321901Z",
     "iopub.status.idle": "2024-07-21T22:25:27.697331Z",
     "shell.execute_reply": "2024-07-21T22:25:27.696209Z"
    },
    "papermill": {
     "duration": 0.388247,
     "end_time": "2024-07-21T22:25:27.700093",
     "exception": false,
     "start_time": "2024-07-21T22:25:27.311846",
     "status": "completed"
    },
    "tags": []
   },
   "outputs": [
    {
     "data": {
      "application/vnd.jupyter.widget-view+json": {
       "model_id": "b65e04ad883f44c19f4f701d11c1216d",
       "version_major": 2,
       "version_minor": 0
      },
      "text/plain": [
       "interactive(children=(FloatSlider(value=0.0, description='Slope (w):', max=1.5, min=-0.5), FloatSlider(value=1…"
      ]
     },
     "metadata": {},
     "output_type": "display_data"
    },
    {
     "data": {
      "text/plain": [
       "<function __main__.plot_data(w=0, b=1)>"
      ]
     },
     "execution_count": 9,
     "metadata": {},
     "output_type": "execute_result"
    }
   ],
   "source": [
    "#now we'll plot the points and try to fit a line by choosing different values for parameter 'w' and bias 'b'\n",
    "def plot_data(w=0, b=1):\n",
    "    plt.figure(figsize=(8, 5))\n",
    "    plt.scatter(df2['YearsExperience'], df2['Salary'], color='yellow', alpha=0.6, edgecolor='#ffA500', s=70, label='Data Points')\n",
    "    \n",
    "    # Plot the line wx + b\n",
    "    x = np.linspace(df2['YearsExperience'].min(), df2['YearsExperience'].max(), 100)\n",
    "    y = w * x + b\n",
    "    plt.plot(x, y, color='orange', linewidth=2, label=f'y = {w}x + {b}')\n",
    "    \n",
    "    plt.title('Interactive Plot', fontsize=14)\n",
    "    plt.xlabel('Years of Experience', fontsize=12)\n",
    "    plt.ylabel('Salary', fontsize=12)\n",
    "    plt.xticks(fontsize=10)\n",
    "    plt.yticks(fontsize=10)\n",
    "    plt.box(False)  # Remove the top and right spines\n",
    "    plt.legend()\n",
    "    plt.show()\n",
    "\n",
    "# Interactive widget\n",
    "interact(plot_data, w=widgets.FloatSlider(min=-0.5, max=1.5, step=0.1, value=0, description='Slope (w):'),\n",
    "                     b=widgets.FloatSlider(min=-2.5, max=1.5, step=0.1, value=1, description='Intercept (b):'))"
   ]
  },
  {
   "cell_type": "markdown",
   "id": "ec2d2ae9",
   "metadata": {
    "papermill": {
     "duration": 0.009367,
     "end_time": "2024-07-21T22:25:27.719208",
     "exception": false,
     "start_time": "2024-07-21T22:25:27.709841",
     "status": "completed"
    },
    "tags": []
   },
   "source": [
    "We find that the line where w = 1 and b = 0 fits our data well. But this took a lot of trial and error. Previously, I had both w and b values from 0 to 100 to find the optimum value. Hit-and-trial is not a feasible option when your dataset is very large and you have no idea about the possible range of your parameters. \n",
    "\n",
    "This is where **Gradient Descent** comes into play. It utilises the concept of a **Cost Function**. Cost functions are named so because the more our predctions are far away from the true values, the more it will *'cost'* us. So, the goal of Gradient Descent is to reduce the cost function and keep reducing it until the value converges and reaches a minima. It does so by chaging the values of the parameters. The amount by which these values change is defined by a **Learning Rate**, which is generally kept between 0 and 1. \n",
    "\n",
    "I'll first define the cost function and then the function which keeps iterating a specified number of times to reduce the cost function. Then you can play around with the number of iterations and the learning rate to find an optimal number via another interactive graph."
   ]
  },
  {
   "cell_type": "code",
   "execution_count": 10,
   "id": "706c69b4",
   "metadata": {
    "execution": {
     "iopub.execute_input": "2024-07-21T22:25:27.739391Z",
     "iopub.status.busy": "2024-07-21T22:25:27.738965Z",
     "iopub.status.idle": "2024-07-21T22:25:27.745633Z",
     "shell.execute_reply": "2024-07-21T22:25:27.744448Z"
    },
    "papermill": {
     "duration": 0.019848,
     "end_time": "2024-07-21T22:25:27.748257",
     "exception": false,
     "start_time": "2024-07-21T22:25:27.728409",
     "status": "completed"
    },
    "tags": []
   },
   "outputs": [],
   "source": [
    "def cost_func(w, b, df2, J):\n",
    "    m = len(df2)\n",
    "    J += ((df2['YearsExperience']*w + b) - df2['Salary'])**2\n",
    "    J = J/(2*m)\n",
    "    return sum(J)"
   ]
  },
  {
   "cell_type": "code",
   "execution_count": 11,
   "id": "2315acbe",
   "metadata": {
    "execution": {
     "iopub.execute_input": "2024-07-21T22:25:27.768495Z",
     "iopub.status.busy": "2024-07-21T22:25:27.768059Z",
     "iopub.status.idle": "2024-07-21T22:25:27.776904Z",
     "shell.execute_reply": "2024-07-21T22:25:27.775600Z"
    },
    "papermill": {
     "duration": 0.022191,
     "end_time": "2024-07-21T22:25:27.779776",
     "exception": false,
     "start_time": "2024-07-21T22:25:27.757585",
     "status": "completed"
    },
    "tags": []
   },
   "outputs": [],
   "source": [
    "def iterate(num_iter, df2, alpha):\n",
    "    J, w, b = 0, 0, 0\n",
    "    Js = []\n",
    "    ws = []\n",
    "    bs = []\n",
    "    m = len(df2)\n",
    "    \n",
    "    for i in range(num_iter):\n",
    "        Js.append(cost_func(w, b, df2, J))\n",
    "\n",
    "        dJ_dw = sum(((df2['YearsExperience']*w + b) - df2['Salary'])*df2['YearsExperience'])/m\n",
    "        dJ_db = sum((df2['YearsExperience']*w + b) - df2['Salary'])/m\n",
    "\n",
    "        w = w - (alpha*dJ_dw)\n",
    "        b = b - (alpha*dJ_db)\n",
    "        ws.append(w)\n",
    "        bs.append(b)\n",
    "    return Js, ws, bs"
   ]
  },
  {
   "cell_type": "code",
   "execution_count": 12,
   "id": "0910c004",
   "metadata": {
    "execution": {
     "iopub.execute_input": "2024-07-21T22:25:27.800545Z",
     "iopub.status.busy": "2024-07-21T22:25:27.800103Z",
     "iopub.status.idle": "2024-07-21T22:25:28.371525Z",
     "shell.execute_reply": "2024-07-21T22:25:28.370044Z"
    },
    "papermill": {
     "duration": 0.584839,
     "end_time": "2024-07-21T22:25:28.374630",
     "exception": false,
     "start_time": "2024-07-21T22:25:27.789791",
     "status": "completed"
    },
    "tags": []
   },
   "outputs": [
    {
     "data": {
      "application/vnd.jupyter.widget-view+json": {
       "model_id": "3a9da15be9244010bd4afcadb78dc3f1",
       "version_major": 2,
       "version_minor": 0
      },
      "text/plain": [
       "interactive(children=(IntSlider(value=200, description='Iterations:', max=1000, step=50), Dropdown(description…"
      ]
     },
     "metadata": {},
     "output_type": "display_data"
    },
    {
     "data": {
      "text/plain": [
       "<function __main__.plot_data(num_iterations, alpha)>"
      ]
     },
     "execution_count": 12,
     "metadata": {},
     "output_type": "execute_result"
    }
   ],
   "source": [
    "def plot_data(num_iterations, alpha):\n",
    "    # Generate example data for the given number of iterations\n",
    "    Js, ws, bs = iterate(num_iterations, df2, alpha)\n",
    "    \n",
    "    # Create a list of iteration numbers (indices)\n",
    "    iterations = list(range(num_iterations))\n",
    "    \n",
    "    # Plot the data\n",
    "    plt.figure(figsize=(10, 5))\n",
    "    plt.plot(iterations, Js, linestyle='-', color='r', label='Js values')\n",
    "    \n",
    "    # Add titles and labels\n",
    "    plt.title(f'Cost Function vs. Number of Iterations ({num_iterations} Iterations)', fontsize=13)\n",
    "    plt.xlabel('Number of Iterations', fontsize=12)\n",
    "    plt.ylabel('Cost Function Value', fontsize=12)\n",
    "    plt.xticks(fontsize=10)\n",
    "    plt.yticks(fontsize=10)\n",
    "    plt.legend()\n",
    "    plt.grid(True)  # Optional: Adds grid lines for better readability\n",
    "    \n",
    "    # Show the plot\n",
    "    plt.show()\n",
    "\n",
    "# Interactive widget to adjust the number of iterations\n",
    "# interact(plot_data, num_iterations=widgets.IntSlider(min=0, max=400, step=25, value=200, description='Iterations:'),\n",
    "#         alpha=widgets.FloatSlider(min=0.001, max=2.2, step=0.1, value=0.01, description='Learning Rate:'))\n",
    "\n",
    "iterations_slider = widgets.IntSlider(min=0, max=1000, step=50, value=200, description='Iterations:')\n",
    "learning_rate_dropdown = widgets.Dropdown(\n",
    "    options=[0.001, 0.01, 0.1, 1, 10],\n",
    "    value=0.01,\n",
    "    description='Learning Rate:'\n",
    ")\n",
    "\n",
    "# Arrange widgets in a horizontal box\n",
    "controls = HBox([iterations_slider, learning_rate_dropdown])\n",
    "\n",
    "# Interactive widget\n",
    "interact(plot_data, num_iterations=iterations_slider, alpha=learning_rate_dropdown)\n"
   ]
  },
  {
   "cell_type": "markdown",
   "id": "e6c3b8b0",
   "metadata": {
    "papermill": {
     "duration": 0.009075,
     "end_time": "2024-07-21T22:25:28.393814",
     "exception": false,
     "start_time": "2024-07-21T22:25:28.384739",
     "status": "completed"
    },
    "tags": []
   },
   "source": [
    "We see that the required number of iterations decrease as the learning rate (or step size) increases. But when we set the learning rate to 10, our cost function keeps on increasing instead of decreason. So, we need to be very careful about the value we choose for our learning rate.\n",
    "\n",
    "Now, we'll choose an optimal value for the number of iterations needed and a learning rate, then we'll print the parameter values we get after these iterations."
   ]
  },
  {
   "cell_type": "code",
   "execution_count": 13,
   "id": "1acd1d8f",
   "metadata": {
    "execution": {
     "iopub.execute_input": "2024-07-21T22:25:28.415372Z",
     "iopub.status.busy": "2024-07-21T22:25:28.414047Z",
     "iopub.status.idle": "2024-07-21T22:25:28.546236Z",
     "shell.execute_reply": "2024-07-21T22:25:28.544395Z"
    },
    "papermill": {
     "duration": 0.146172,
     "end_time": "2024-07-21T22:25:28.549357",
     "exception": false,
     "start_time": "2024-07-21T22:25:28.403185",
     "status": "completed"
    },
    "tags": []
   },
   "outputs": [],
   "source": [
    "Js, ws, bs = iterate(100, df2, 0.1)"
   ]
  },
  {
   "cell_type": "code",
   "execution_count": 14,
   "id": "295930b0",
   "metadata": {
    "execution": {
     "iopub.execute_input": "2024-07-21T22:25:28.572733Z",
     "iopub.status.busy": "2024-07-21T22:25:28.571257Z",
     "iopub.status.idle": "2024-07-21T22:25:28.578968Z",
     "shell.execute_reply": "2024-07-21T22:25:28.577506Z"
    },
    "papermill": {
     "duration": 0.021703,
     "end_time": "2024-07-21T22:25:28.581893",
     "exception": false,
     "start_time": "2024-07-21T22:25:28.560190",
     "status": "completed"
    },
    "tags": []
   },
   "outputs": [
    {
     "name": "stdout",
     "output_type": "stream",
     "text": [
      "Squared Error Cost Function Value: 0.020804279834930255\n",
      "Final Value of the Parameter w: 0.9782040131287187\n",
      "Final Value of the Parameter b: 5.736152293896644e-17\n"
     ]
    }
   ],
   "source": [
    "print(f\"Squared Error Cost Function Value: {Js[-1]}\")\n",
    "print(f\"Final Value of the Parameter w: {ws[-1]}\")\n",
    "print(f\"Final Value of the Parameter b: {bs[-1]}\")"
   ]
  },
  {
   "cell_type": "markdown",
   "id": "eddf88d2",
   "metadata": {
    "papermill": {
     "duration": 0.009394,
     "end_time": "2024-07-21T22:25:28.600812",
     "exception": false,
     "start_time": "2024-07-21T22:25:28.591418",
     "status": "completed"
    },
    "tags": []
   },
   "source": [
    "We can see that these values are very close to the values we found by hit-and-trial method above where w was equal to 1 and b was equal to 0.\n",
    "\n",
    "This was the simplest form of linear regression! But wait! These values of w and b are the normalized values! We need to **convert them back to an unnormalized version** before we can start predicting. We use the same values that we used to normalize them i.e., standard deviation and the mean or original columns. \n",
    "\n",
    "Note that this is the reason why we did not normalize the original dataset and created a duplicate one instead. "
   ]
  },
  {
   "cell_type": "code",
   "execution_count": 15,
   "id": "abef2239",
   "metadata": {
    "execution": {
     "iopub.execute_input": "2024-07-21T22:25:28.624682Z",
     "iopub.status.busy": "2024-07-21T22:25:28.622403Z",
     "iopub.status.idle": "2024-07-21T22:25:28.634099Z",
     "shell.execute_reply": "2024-07-21T22:25:28.632446Z"
    },
    "papermill": {
     "duration": 0.030309,
     "end_time": "2024-07-21T22:25:28.640798",
     "exception": false,
     "start_time": "2024-07-21T22:25:28.610489",
     "status": "completed"
    },
    "tags": []
   },
   "outputs": [
    {
     "name": "stdout",
     "output_type": "stream",
     "text": [
      "Adjusted Value of w: 9447.628250227892\n",
      "Adjusted Value of b: 25804.601897122455\n"
     ]
    }
   ],
   "source": [
    "mu_x = df['YearsExperience'].mean()\n",
    "sigma_x = df['YearsExperience'].std()\n",
    "mu_y = df['Salary'].mean()\n",
    "sigma_y = df['Salary'].std()\n",
    "\n",
    "# Your final normalized parameters\n",
    "w_normalized = 0.978\n",
    "b_normalized = 0\n",
    "\n",
    "# Transform the parameters back to the original scale\n",
    "w_new = w_normalized * (sigma_y / sigma_x)\n",
    "b_new = b_normalized * sigma_y + mu_y - w_normalized * (sigma_y * mu_x / sigma_x)\n",
    "\n",
    "print(f\"Adjusted Value of w: {w_new}\")\n",
    "print(f\"Adjusted Value of b: {b_new}\")\n",
    "\n",
    "# To make predictions with the adjusted parameters:\n",
    "def predict(years_experience):\n",
    "    return w_new * years_experience + b_new"
   ]
  },
  {
   "cell_type": "code",
   "execution_count": 16,
   "id": "0618952f",
   "metadata": {
    "execution": {
     "iopub.execute_input": "2024-07-21T22:25:28.662055Z",
     "iopub.status.busy": "2024-07-21T22:25:28.661668Z",
     "iopub.status.idle": "2024-07-21T22:25:28.667576Z",
     "shell.execute_reply": "2024-07-21T22:25:28.666319Z"
    },
    "papermill": {
     "duration": 0.019891,
     "end_time": "2024-07-21T22:25:28.670301",
     "exception": false,
     "start_time": "2024-07-21T22:25:28.650410",
     "status": "completed"
    },
    "tags": []
   },
   "outputs": [],
   "source": [
    "#try it out by uncommenting the lines ahead!\n",
    "# x = float(input())\n",
    "# predicted_salary = predict(x)\n",
    "# print(f\"Predicted Salary for {x} years of experience: {predicted_salary}\")"
   ]
  },
  {
   "cell_type": "markdown",
   "id": "91d3dfee",
   "metadata": {
    "papermill": {
     "duration": 0.009454,
     "end_time": "2024-07-21T22:25:28.689399",
     "exception": false,
     "start_time": "2024-07-21T22:25:28.679945",
     "status": "completed"
    },
    "tags": []
   },
   "source": [
    "And that was it! Thank you for reading my notebook so far!"
   ]
  }
 ],
 "metadata": {
  "kaggle": {
   "accelerator": "none",
   "dataSources": [
    {
     "datasetId": 5424890,
     "sourceId": 9004863,
     "sourceType": "datasetVersion"
    }
   ],
   "dockerImageVersionId": 30746,
   "isGpuEnabled": false,
   "isInternetEnabled": true,
   "language": "python",
   "sourceType": "notebook"
  },
  "kernelspec": {
   "display_name": "Python 3",
   "language": "python",
   "name": "python3"
  },
  "language_info": {
   "codemirror_mode": {
    "name": "ipython",
    "version": 3
   },
   "file_extension": ".py",
   "mimetype": "text/x-python",
   "name": "python",
   "nbconvert_exporter": "python",
   "pygments_lexer": "ipython3",
   "version": "3.10.13"
  },
  "papermill": {
   "default_parameters": {},
   "duration": 6.933709,
   "end_time": "2024-07-21T22:25:29.223699",
   "environment_variables": {},
   "exception": null,
   "input_path": "__notebook__.ipynb",
   "output_path": "__notebook__.ipynb",
   "parameters": {},
   "start_time": "2024-07-21T22:25:22.289990",
   "version": "2.5.0"
  },
  "widgets": {
   "application/vnd.jupyter.widget-state+json": {
    "state": {
     "21cb3c256f894dff8bd589240c4f6156": {
      "model_module": "@jupyter-widgets/controls",
      "model_module_version": "1.5.0",
      "model_name": "SliderStyleModel",
      "state": {
       "_model_module": "@jupyter-widgets/controls",
       "_model_module_version": "1.5.0",
       "_model_name": "SliderStyleModel",
       "_view_count": null,
       "_view_module": "@jupyter-widgets/base",
       "_view_module_version": "1.2.0",
       "_view_name": "StyleView",
       "description_width": "",
       "handle_color": null
      }
     },
     "27ca45d474a545d1bd210f893227d1ab": {
      "model_module": "@jupyter-widgets/controls",
      "model_module_version": "1.5.0",
      "model_name": "HBoxModel",
      "state": {
       "_dom_classes": [],
       "_model_module": "@jupyter-widgets/controls",
       "_model_module_version": "1.5.0",
       "_model_name": "HBoxModel",
       "_view_count": null,
       "_view_module": "@jupyter-widgets/controls",
       "_view_module_version": "1.5.0",
       "_view_name": "HBoxView",
       "box_style": "",
       "children": [
        "IPY_MODEL_6eb6e97834d04b7dbc90186d7fffc8a8",
        "IPY_MODEL_ba51d741fd514f6a8138a3d562841d0a"
       ],
       "layout": "IPY_MODEL_593ffa816ff54e40af711e545877cf36"
      }
     },
     "34034eb695364fdf8d3d6183cfbcd936": {
      "model_module": "@jupyter-widgets/base",
      "model_module_version": "1.2.0",
      "model_name": "LayoutModel",
      "state": {
       "_model_module": "@jupyter-widgets/base",
       "_model_module_version": "1.2.0",
       "_model_name": "LayoutModel",
       "_view_count": null,
       "_view_module": "@jupyter-widgets/base",
       "_view_module_version": "1.2.0",
       "_view_name": "LayoutView",
       "align_content": null,
       "align_items": null,
       "align_self": null,
       "border": null,
       "bottom": null,
       "display": null,
       "flex": null,
       "flex_flow": null,
       "grid_area": null,
       "grid_auto_columns": null,
       "grid_auto_flow": null,
       "grid_auto_rows": null,
       "grid_column": null,
       "grid_gap": null,
       "grid_row": null,
       "grid_template_areas": null,
       "grid_template_columns": null,
       "grid_template_rows": null,
       "height": null,
       "justify_content": null,
       "justify_items": null,
       "left": null,
       "margin": null,
       "max_height": null,
       "max_width": null,
       "min_height": null,
       "min_width": null,
       "object_fit": null,
       "object_position": null,
       "order": null,
       "overflow": null,
       "overflow_x": null,
       "overflow_y": null,
       "padding": null,
       "right": null,
       "top": null,
       "visibility": null,
       "width": null
      }
     },
     "3743483686254d94824332477fa1cee8": {
      "model_module": "@jupyter-widgets/output",
      "model_module_version": "1.0.0",
      "model_name": "OutputModel",
      "state": {
       "_dom_classes": [],
       "_model_module": "@jupyter-widgets/output",
       "_model_module_version": "1.0.0",
       "_model_name": "OutputModel",
       "_view_count": null,
       "_view_module": "@jupyter-widgets/output",
       "_view_module_version": "1.0.0",
       "_view_name": "OutputView",
       "layout": "IPY_MODEL_a8d5ea29571349048c175af164967264",
       "msg_id": "",
       "outputs": [
        {
         "data": {
          "image/png": "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",
          "text/plain": "<Figure size 1000x500 with 1 Axes>"
         },
         "metadata": {},
         "output_type": "display_data"
        }
       ]
      }
     },
     "3a9da15be9244010bd4afcadb78dc3f1": {
      "model_module": "@jupyter-widgets/controls",
      "model_module_version": "1.5.0",
      "model_name": "VBoxModel",
      "state": {
       "_dom_classes": [
        "widget-interact"
       ],
       "_model_module": "@jupyter-widgets/controls",
       "_model_module_version": "1.5.0",
       "_model_name": "VBoxModel",
       "_view_count": null,
       "_view_module": "@jupyter-widgets/controls",
       "_view_module_version": "1.5.0",
       "_view_name": "VBoxView",
       "box_style": "",
       "children": [
        "IPY_MODEL_6eb6e97834d04b7dbc90186d7fffc8a8",
        "IPY_MODEL_ba51d741fd514f6a8138a3d562841d0a",
        "IPY_MODEL_3743483686254d94824332477fa1cee8"
       ],
       "layout": "IPY_MODEL_d00196b3f69141419e8cd057d403c578"
      }
     },
     "467792c9c4844bfeabc91aa923937dd0": {
      "model_module": "@jupyter-widgets/base",
      "model_module_version": "1.2.0",
      "model_name": "LayoutModel",
      "state": {
       "_model_module": "@jupyter-widgets/base",
       "_model_module_version": "1.2.0",
       "_model_name": "LayoutModel",
       "_view_count": null,
       "_view_module": "@jupyter-widgets/base",
       "_view_module_version": "1.2.0",
       "_view_name": "LayoutView",
       "align_content": null,
       "align_items": null,
       "align_self": null,
       "border": null,
       "bottom": null,
       "display": null,
       "flex": null,
       "flex_flow": null,
       "grid_area": null,
       "grid_auto_columns": null,
       "grid_auto_flow": null,
       "grid_auto_rows": null,
       "grid_column": null,
       "grid_gap": null,
       "grid_row": null,
       "grid_template_areas": null,
       "grid_template_columns": null,
       "grid_template_rows": null,
       "height": null,
       "justify_content": null,
       "justify_items": null,
       "left": null,
       "margin": null,
       "max_height": null,
       "max_width": null,
       "min_height": null,
       "min_width": null,
       "object_fit": null,
       "object_position": null,
       "order": null,
       "overflow": null,
       "overflow_x": null,
       "overflow_y": null,
       "padding": null,
       "right": null,
       "top": null,
       "visibility": null,
       "width": null
      }
     },
     "5873be4811a643438cf021242222e6af": {
      "model_module": "@jupyter-widgets/base",
      "model_module_version": "1.2.0",
      "model_name": "LayoutModel",
      "state": {
       "_model_module": "@jupyter-widgets/base",
       "_model_module_version": "1.2.0",
       "_model_name": "LayoutModel",
       "_view_count": null,
       "_view_module": "@jupyter-widgets/base",
       "_view_module_version": "1.2.0",
       "_view_name": "LayoutView",
       "align_content": null,
       "align_items": null,
       "align_self": null,
       "border": null,
       "bottom": null,
       "display": null,
       "flex": null,
       "flex_flow": null,
       "grid_area": null,
       "grid_auto_columns": null,
       "grid_auto_flow": null,
       "grid_auto_rows": null,
       "grid_column": null,
       "grid_gap": null,
       "grid_row": null,
       "grid_template_areas": null,
       "grid_template_columns": null,
       "grid_template_rows": null,
       "height": null,
       "justify_content": null,
       "justify_items": null,
       "left": null,
       "margin": null,
       "max_height": null,
       "max_width": null,
       "min_height": null,
       "min_width": null,
       "object_fit": null,
       "object_position": null,
       "order": null,
       "overflow": null,
       "overflow_x": null,
       "overflow_y": null,
       "padding": null,
       "right": null,
       "top": null,
       "visibility": null,
       "width": null
      }
     },
     "593ffa816ff54e40af711e545877cf36": {
      "model_module": "@jupyter-widgets/base",
      "model_module_version": "1.2.0",
      "model_name": "LayoutModel",
      "state": {
       "_model_module": "@jupyter-widgets/base",
       "_model_module_version": "1.2.0",
       "_model_name": "LayoutModel",
       "_view_count": null,
       "_view_module": "@jupyter-widgets/base",
       "_view_module_version": "1.2.0",
       "_view_name": "LayoutView",
       "align_content": null,
       "align_items": null,
       "align_self": null,
       "border": null,
       "bottom": null,
       "display": null,
       "flex": null,
       "flex_flow": null,
       "grid_area": null,
       "grid_auto_columns": null,
       "grid_auto_flow": null,
       "grid_auto_rows": null,
       "grid_column": null,
       "grid_gap": null,
       "grid_row": null,
       "grid_template_areas": null,
       "grid_template_columns": null,
       "grid_template_rows": null,
       "height": null,
       "justify_content": null,
       "justify_items": null,
       "left": null,
       "margin": null,
       "max_height": null,
       "max_width": null,
       "min_height": null,
       "min_width": null,
       "object_fit": null,
       "object_position": null,
       "order": null,
       "overflow": null,
       "overflow_x": null,
       "overflow_y": null,
       "padding": null,
       "right": null,
       "top": null,
       "visibility": null,
       "width": null
      }
     },
     "5eeec469786a4d5daf036ae81e8e49e4": {
      "model_module": "@jupyter-widgets/output",
      "model_module_version": "1.0.0",
      "model_name": "OutputModel",
      "state": {
       "_dom_classes": [],
       "_model_module": "@jupyter-widgets/output",
       "_model_module_version": "1.0.0",
       "_model_name": "OutputModel",
       "_view_count": null,
       "_view_module": "@jupyter-widgets/output",
       "_view_module_version": "1.0.0",
       "_view_name": "OutputView",
       "layout": "IPY_MODEL_b623789a770844d0ad921a613a45160f",
       "msg_id": "",
       "outputs": [
        {
         "data": {
          "image/png": "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",
          "text/plain": "<Figure size 800x500 with 1 Axes>"
         },
         "metadata": {},
         "output_type": "display_data"
        }
       ]
      }
     },
     "6eb6e97834d04b7dbc90186d7fffc8a8": {
      "model_module": "@jupyter-widgets/controls",
      "model_module_version": "1.5.0",
      "model_name": "IntSliderModel",
      "state": {
       "_dom_classes": [],
       "_model_module": "@jupyter-widgets/controls",
       "_model_module_version": "1.5.0",
       "_model_name": "IntSliderModel",
       "_view_count": null,
       "_view_module": "@jupyter-widgets/controls",
       "_view_module_version": "1.5.0",
       "_view_name": "IntSliderView",
       "continuous_update": true,
       "description": "Iterations:",
       "description_tooltip": null,
       "disabled": false,
       "layout": "IPY_MODEL_9fa01fe52f024c1ea8d9385cc17cb03c",
       "max": 1000,
       "min": 0,
       "orientation": "horizontal",
       "readout": true,
       "readout_format": "d",
       "step": 50,
       "style": "IPY_MODEL_cd9fc51e0af342c794e4806da3bfb232",
       "value": 200
      }
     },
     "9fa01fe52f024c1ea8d9385cc17cb03c": {
      "model_module": "@jupyter-widgets/base",
      "model_module_version": "1.2.0",
      "model_name": "LayoutModel",
      "state": {
       "_model_module": "@jupyter-widgets/base",
       "_model_module_version": "1.2.0",
       "_model_name": "LayoutModel",
       "_view_count": null,
       "_view_module": "@jupyter-widgets/base",
       "_view_module_version": "1.2.0",
       "_view_name": "LayoutView",
       "align_content": null,
       "align_items": null,
       "align_self": null,
       "border": null,
       "bottom": null,
       "display": null,
       "flex": null,
       "flex_flow": null,
       "grid_area": null,
       "grid_auto_columns": null,
       "grid_auto_flow": null,
       "grid_auto_rows": null,
       "grid_column": null,
       "grid_gap": null,
       "grid_row": null,
       "grid_template_areas": null,
       "grid_template_columns": null,
       "grid_template_rows": null,
       "height": null,
       "justify_content": null,
       "justify_items": null,
       "left": null,
       "margin": null,
       "max_height": null,
       "max_width": null,
       "min_height": null,
       "min_width": null,
       "object_fit": null,
       "object_position": null,
       "order": null,
       "overflow": null,
       "overflow_x": null,
       "overflow_y": null,
       "padding": null,
       "right": null,
       "top": null,
       "visibility": null,
       "width": null
      }
     },
     "a8d5ea29571349048c175af164967264": {
      "model_module": "@jupyter-widgets/base",
      "model_module_version": "1.2.0",
      "model_name": "LayoutModel",
      "state": {
       "_model_module": "@jupyter-widgets/base",
       "_model_module_version": "1.2.0",
       "_model_name": "LayoutModel",
       "_view_count": null,
       "_view_module": "@jupyter-widgets/base",
       "_view_module_version": "1.2.0",
       "_view_name": "LayoutView",
       "align_content": null,
       "align_items": null,
       "align_self": null,
       "border": null,
       "bottom": null,
       "display": null,
       "flex": null,
       "flex_flow": null,
       "grid_area": null,
       "grid_auto_columns": null,
       "grid_auto_flow": null,
       "grid_auto_rows": null,
       "grid_column": null,
       "grid_gap": null,
       "grid_row": null,
       "grid_template_areas": null,
       "grid_template_columns": null,
       "grid_template_rows": null,
       "height": null,
       "justify_content": null,
       "justify_items": null,
       "left": null,
       "margin": null,
       "max_height": null,
       "max_width": null,
       "min_height": null,
       "min_width": null,
       "object_fit": null,
       "object_position": null,
       "order": null,
       "overflow": null,
       "overflow_x": null,
       "overflow_y": null,
       "padding": null,
       "right": null,
       "top": null,
       "visibility": null,
       "width": null
      }
     },
     "afba9c0ec0aa4efebb2ea2b8136c084b": {
      "model_module": "@jupyter-widgets/controls",
      "model_module_version": "1.5.0",
      "model_name": "SliderStyleModel",
      "state": {
       "_model_module": "@jupyter-widgets/controls",
       "_model_module_version": "1.5.0",
       "_model_name": "SliderStyleModel",
       "_view_count": null,
       "_view_module": "@jupyter-widgets/base",
       "_view_module_version": "1.2.0",
       "_view_name": "StyleView",
       "description_width": "",
       "handle_color": null
      }
     },
     "b0e1ff5cb4584658a163ef3fffe59132": {
      "model_module": "@jupyter-widgets/base",
      "model_module_version": "1.2.0",
      "model_name": "LayoutModel",
      "state": {
       "_model_module": "@jupyter-widgets/base",
       "_model_module_version": "1.2.0",
       "_model_name": "LayoutModel",
       "_view_count": null,
       "_view_module": "@jupyter-widgets/base",
       "_view_module_version": "1.2.0",
       "_view_name": "LayoutView",
       "align_content": null,
       "align_items": null,
       "align_self": null,
       "border": null,
       "bottom": null,
       "display": null,
       "flex": null,
       "flex_flow": null,
       "grid_area": null,
       "grid_auto_columns": null,
       "grid_auto_flow": null,
       "grid_auto_rows": null,
       "grid_column": null,
       "grid_gap": null,
       "grid_row": null,
       "grid_template_areas": null,
       "grid_template_columns": null,
       "grid_template_rows": null,
       "height": null,
       "justify_content": null,
       "justify_items": null,
       "left": null,
       "margin": null,
       "max_height": null,
       "max_width": null,
       "min_height": null,
       "min_width": null,
       "object_fit": null,
       "object_position": null,
       "order": null,
       "overflow": null,
       "overflow_x": null,
       "overflow_y": null,
       "padding": null,
       "right": null,
       "top": null,
       "visibility": null,
       "width": null
      }
     },
     "b613484c1b604a799dc9d95d06b74327": {
      "model_module": "@jupyter-widgets/base",
      "model_module_version": "1.2.0",
      "model_name": "LayoutModel",
      "state": {
       "_model_module": "@jupyter-widgets/base",
       "_model_module_version": "1.2.0",
       "_model_name": "LayoutModel",
       "_view_count": null,
       "_view_module": "@jupyter-widgets/base",
       "_view_module_version": "1.2.0",
       "_view_name": "LayoutView",
       "align_content": null,
       "align_items": null,
       "align_self": null,
       "border": null,
       "bottom": null,
       "display": null,
       "flex": null,
       "flex_flow": null,
       "grid_area": null,
       "grid_auto_columns": null,
       "grid_auto_flow": null,
       "grid_auto_rows": null,
       "grid_column": null,
       "grid_gap": null,
       "grid_row": null,
       "grid_template_areas": null,
       "grid_template_columns": null,
       "grid_template_rows": null,
       "height": null,
       "justify_content": null,
       "justify_items": null,
       "left": null,
       "margin": null,
       "max_height": null,
       "max_width": null,
       "min_height": null,
       "min_width": null,
       "object_fit": null,
       "object_position": null,
       "order": null,
       "overflow": null,
       "overflow_x": null,
       "overflow_y": null,
       "padding": null,
       "right": null,
       "top": null,
       "visibility": null,
       "width": null
      }
     },
     "b623789a770844d0ad921a613a45160f": {
      "model_module": "@jupyter-widgets/base",
      "model_module_version": "1.2.0",
      "model_name": "LayoutModel",
      "state": {
       "_model_module": "@jupyter-widgets/base",
       "_model_module_version": "1.2.0",
       "_model_name": "LayoutModel",
       "_view_count": null,
       "_view_module": "@jupyter-widgets/base",
       "_view_module_version": "1.2.0",
       "_view_name": "LayoutView",
       "align_content": null,
       "align_items": null,
       "align_self": null,
       "border": null,
       "bottom": null,
       "display": null,
       "flex": null,
       "flex_flow": null,
       "grid_area": null,
       "grid_auto_columns": null,
       "grid_auto_flow": null,
       "grid_auto_rows": null,
       "grid_column": null,
       "grid_gap": null,
       "grid_row": null,
       "grid_template_areas": null,
       "grid_template_columns": null,
       "grid_template_rows": null,
       "height": null,
       "justify_content": null,
       "justify_items": null,
       "left": null,
       "margin": null,
       "max_height": null,
       "max_width": null,
       "min_height": null,
       "min_width": null,
       "object_fit": null,
       "object_position": null,
       "order": null,
       "overflow": null,
       "overflow_x": null,
       "overflow_y": null,
       "padding": null,
       "right": null,
       "top": null,
       "visibility": null,
       "width": null
      }
     },
     "b65e04ad883f44c19f4f701d11c1216d": {
      "model_module": "@jupyter-widgets/controls",
      "model_module_version": "1.5.0",
      "model_name": "VBoxModel",
      "state": {
       "_dom_classes": [
        "widget-interact"
       ],
       "_model_module": "@jupyter-widgets/controls",
       "_model_module_version": "1.5.0",
       "_model_name": "VBoxModel",
       "_view_count": null,
       "_view_module": "@jupyter-widgets/controls",
       "_view_module_version": "1.5.0",
       "_view_name": "VBoxView",
       "box_style": "",
       "children": [
        "IPY_MODEL_fb960f835f4f459f9c098021147d6cd1",
        "IPY_MODEL_fac188ad57d04b5ab4c54a81f0f63e3b",
        "IPY_MODEL_5eeec469786a4d5daf036ae81e8e49e4"
       ],
       "layout": "IPY_MODEL_5873be4811a643438cf021242222e6af"
      }
     },
     "ba51d741fd514f6a8138a3d562841d0a": {
      "model_module": "@jupyter-widgets/controls",
      "model_module_version": "1.5.0",
      "model_name": "DropdownModel",
      "state": {
       "_dom_classes": [],
       "_model_module": "@jupyter-widgets/controls",
       "_model_module_version": "1.5.0",
       "_model_name": "DropdownModel",
       "_options_labels": [
        "0.001",
        "0.01",
        "0.1",
        "1",
        "10"
       ],
       "_view_count": null,
       "_view_module": "@jupyter-widgets/controls",
       "_view_module_version": "1.5.0",
       "_view_name": "DropdownView",
       "description": "Learning Rate:",
       "description_tooltip": null,
       "disabled": false,
       "index": 1,
       "layout": "IPY_MODEL_e643cfd319f24d84925db5590ceeaeab",
       "style": "IPY_MODEL_f55a15c0b0304f7ca8f0bd5ac51f95e4"
      }
     },
     "bb94926f75284582ad38103eb1cca114": {
      "model_module": "@jupyter-widgets/controls",
      "model_module_version": "1.5.0",
      "model_name": "SliderStyleModel",
      "state": {
       "_model_module": "@jupyter-widgets/controls",
       "_model_module_version": "1.5.0",
       "_model_name": "SliderStyleModel",
       "_view_count": null,
       "_view_module": "@jupyter-widgets/base",
       "_view_module_version": "1.2.0",
       "_view_name": "StyleView",
       "description_width": "",
       "handle_color": null
      }
     },
     "c26637319b134b119dfeaf6f284901af": {
      "model_module": "@jupyter-widgets/base",
      "model_module_version": "1.2.0",
      "model_name": "LayoutModel",
      "state": {
       "_model_module": "@jupyter-widgets/base",
       "_model_module_version": "1.2.0",
       "_model_name": "LayoutModel",
       "_view_count": null,
       "_view_module": "@jupyter-widgets/base",
       "_view_module_version": "1.2.0",
       "_view_name": "LayoutView",
       "align_content": null,
       "align_items": null,
       "align_self": null,
       "border": null,
       "bottom": null,
       "display": null,
       "flex": null,
       "flex_flow": null,
       "grid_area": null,
       "grid_auto_columns": null,
       "grid_auto_flow": null,
       "grid_auto_rows": null,
       "grid_column": null,
       "grid_gap": null,
       "grid_row": null,
       "grid_template_areas": null,
       "grid_template_columns": null,
       "grid_template_rows": null,
       "height": null,
       "justify_content": null,
       "justify_items": null,
       "left": null,
       "margin": null,
       "max_height": null,
       "max_width": null,
       "min_height": null,
       "min_width": null,
       "object_fit": null,
       "object_position": null,
       "order": null,
       "overflow": null,
       "overflow_x": null,
       "overflow_y": null,
       "padding": null,
       "right": null,
       "top": null,
       "visibility": null,
       "width": null
      }
     },
     "cd9fc51e0af342c794e4806da3bfb232": {
      "model_module": "@jupyter-widgets/controls",
      "model_module_version": "1.5.0",
      "model_name": "SliderStyleModel",
      "state": {
       "_model_module": "@jupyter-widgets/controls",
       "_model_module_version": "1.5.0",
       "_model_name": "SliderStyleModel",
       "_view_count": null,
       "_view_module": "@jupyter-widgets/base",
       "_view_module_version": "1.2.0",
       "_view_name": "StyleView",
       "description_width": "",
       "handle_color": null
      }
     },
     "d00196b3f69141419e8cd057d403c578": {
      "model_module": "@jupyter-widgets/base",
      "model_module_version": "1.2.0",
      "model_name": "LayoutModel",
      "state": {
       "_model_module": "@jupyter-widgets/base",
       "_model_module_version": "1.2.0",
       "_model_name": "LayoutModel",
       "_view_count": null,
       "_view_module": "@jupyter-widgets/base",
       "_view_module_version": "1.2.0",
       "_view_name": "LayoutView",
       "align_content": null,
       "align_items": null,
       "align_self": null,
       "border": null,
       "bottom": null,
       "display": null,
       "flex": null,
       "flex_flow": null,
       "grid_area": null,
       "grid_auto_columns": null,
       "grid_auto_flow": null,
       "grid_auto_rows": null,
       "grid_column": null,
       "grid_gap": null,
       "grid_row": null,
       "grid_template_areas": null,
       "grid_template_columns": null,
       "grid_template_rows": null,
       "height": null,
       "justify_content": null,
       "justify_items": null,
       "left": null,
       "margin": null,
       "max_height": null,
       "max_width": null,
       "min_height": null,
       "min_width": null,
       "object_fit": null,
       "object_position": null,
       "order": null,
       "overflow": null,
       "overflow_x": null,
       "overflow_y": null,
       "padding": null,
       "right": null,
       "top": null,
       "visibility": null,
       "width": null
      }
     },
     "d48ef9ddaf5b4e4c92813974ef96d66d": {
      "model_module": "@jupyter-widgets/controls",
      "model_module_version": "1.5.0",
      "model_name": "IntSliderModel",
      "state": {
       "_dom_classes": [],
       "_model_module": "@jupyter-widgets/controls",
       "_model_module_version": "1.5.0",
       "_model_name": "IntSliderModel",
       "_view_count": null,
       "_view_module": "@jupyter-widgets/controls",
       "_view_module_version": "1.5.0",
       "_view_name": "IntSliderView",
       "continuous_update": true,
       "description": "Normalization:",
       "description_tooltip": null,
       "disabled": false,
       "layout": "IPY_MODEL_467792c9c4844bfeabc91aa923937dd0",
       "max": 3,
       "min": 0,
       "orientation": "horizontal",
       "readout": true,
       "readout_format": "d",
       "step": 1,
       "style": "IPY_MODEL_afba9c0ec0aa4efebb2ea2b8136c084b",
       "value": 0
      }
     },
     "e643cfd319f24d84925db5590ceeaeab": {
      "model_module": "@jupyter-widgets/base",
      "model_module_version": "1.2.0",
      "model_name": "LayoutModel",
      "state": {
       "_model_module": "@jupyter-widgets/base",
       "_model_module_version": "1.2.0",
       "_model_name": "LayoutModel",
       "_view_count": null,
       "_view_module": "@jupyter-widgets/base",
       "_view_module_version": "1.2.0",
       "_view_name": "LayoutView",
       "align_content": null,
       "align_items": null,
       "align_self": null,
       "border": null,
       "bottom": null,
       "display": null,
       "flex": null,
       "flex_flow": null,
       "grid_area": null,
       "grid_auto_columns": null,
       "grid_auto_flow": null,
       "grid_auto_rows": null,
       "grid_column": null,
       "grid_gap": null,
       "grid_row": null,
       "grid_template_areas": null,
       "grid_template_columns": null,
       "grid_template_rows": null,
       "height": null,
       "justify_content": null,
       "justify_items": null,
       "left": null,
       "margin": null,
       "max_height": null,
       "max_width": null,
       "min_height": null,
       "min_width": null,
       "object_fit": null,
       "object_position": null,
       "order": null,
       "overflow": null,
       "overflow_x": null,
       "overflow_y": null,
       "padding": null,
       "right": null,
       "top": null,
       "visibility": null,
       "width": null
      }
     },
     "ec9dc240373944c483def7557277dc10": {
      "model_module": "@jupyter-widgets/controls",
      "model_module_version": "1.5.0",
      "model_name": "VBoxModel",
      "state": {
       "_dom_classes": [
        "widget-interact"
       ],
       "_model_module": "@jupyter-widgets/controls",
       "_model_module_version": "1.5.0",
       "_model_name": "VBoxModel",
       "_view_count": null,
       "_view_module": "@jupyter-widgets/controls",
       "_view_module_version": "1.5.0",
       "_view_name": "VBoxView",
       "box_style": "",
       "children": [
        "IPY_MODEL_d48ef9ddaf5b4e4c92813974ef96d66d",
        "IPY_MODEL_fc7663223750443992590e441e02d117"
       ],
       "layout": "IPY_MODEL_c26637319b134b119dfeaf6f284901af"
      }
     },
     "f55a15c0b0304f7ca8f0bd5ac51f95e4": {
      "model_module": "@jupyter-widgets/controls",
      "model_module_version": "1.5.0",
      "model_name": "DescriptionStyleModel",
      "state": {
       "_model_module": "@jupyter-widgets/controls",
       "_model_module_version": "1.5.0",
       "_model_name": "DescriptionStyleModel",
       "_view_count": null,
       "_view_module": "@jupyter-widgets/base",
       "_view_module_version": "1.2.0",
       "_view_name": "StyleView",
       "description_width": ""
      }
     },
     "fac188ad57d04b5ab4c54a81f0f63e3b": {
      "model_module": "@jupyter-widgets/controls",
      "model_module_version": "1.5.0",
      "model_name": "FloatSliderModel",
      "state": {
       "_dom_classes": [],
       "_model_module": "@jupyter-widgets/controls",
       "_model_module_version": "1.5.0",
       "_model_name": "FloatSliderModel",
       "_view_count": null,
       "_view_module": "@jupyter-widgets/controls",
       "_view_module_version": "1.5.0",
       "_view_name": "FloatSliderView",
       "continuous_update": true,
       "description": "Intercept (b):",
       "description_tooltip": null,
       "disabled": false,
       "layout": "IPY_MODEL_34034eb695364fdf8d3d6183cfbcd936",
       "max": 1.5,
       "min": -2.5,
       "orientation": "horizontal",
       "readout": true,
       "readout_format": ".2f",
       "step": 0.1,
       "style": "IPY_MODEL_21cb3c256f894dff8bd589240c4f6156",
       "value": 1.0
      }
     },
     "fb960f835f4f459f9c098021147d6cd1": {
      "model_module": "@jupyter-widgets/controls",
      "model_module_version": "1.5.0",
      "model_name": "FloatSliderModel",
      "state": {
       "_dom_classes": [],
       "_model_module": "@jupyter-widgets/controls",
       "_model_module_version": "1.5.0",
       "_model_name": "FloatSliderModel",
       "_view_count": null,
       "_view_module": "@jupyter-widgets/controls",
       "_view_module_version": "1.5.0",
       "_view_name": "FloatSliderView",
       "continuous_update": true,
       "description": "Slope (w):",
       "description_tooltip": null,
       "disabled": false,
       "layout": "IPY_MODEL_b613484c1b604a799dc9d95d06b74327",
       "max": 1.5,
       "min": -0.5,
       "orientation": "horizontal",
       "readout": true,
       "readout_format": ".2f",
       "step": 0.1,
       "style": "IPY_MODEL_bb94926f75284582ad38103eb1cca114",
       "value": 0.0
      }
     },
     "fc7663223750443992590e441e02d117": {
      "model_module": "@jupyter-widgets/output",
      "model_module_version": "1.0.0",
      "model_name": "OutputModel",
      "state": {
       "_dom_classes": [],
       "_model_module": "@jupyter-widgets/output",
       "_model_module_version": "1.0.0",
       "_model_name": "OutputModel",
       "_view_count": null,
       "_view_module": "@jupyter-widgets/output",
       "_view_module_version": "1.0.0",
       "_view_name": "OutputView",
       "layout": "IPY_MODEL_b0e1ff5cb4584658a163ef3fffe59132",
       "msg_id": "",
       "outputs": [
        {
         "data": {
          "image/png": "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",
          "text/plain": "<Figure size 800x500 with 1 Axes>"
         },
         "metadata": {},
         "output_type": "display_data"
        }
       ]
      }
     }
    },
    "version_major": 2,
    "version_minor": 0
   }
  }
 },
 "nbformat": 4,
 "nbformat_minor": 5
}
